{
 "metadata": {
  "language_info": {
   "codemirror_mode": {
    "name": "ipython",
    "version": 3
   },
   "file_extension": ".py",
   "mimetype": "text/x-python",
   "name": "python",
   "nbconvert_exporter": "python",
   "pygments_lexer": "ipython3",
   "version": "3.9.5"
  },
  "orig_nbformat": 4,
  "kernelspec": {
   "name": "python3",
   "display_name": "Python 3.9.5 64-bit ('PythonSoftwareFoundation.Python.3.9_qbz5n2kfra8p0')"
  },
  "interpreter": {
   "hash": "01a0d2cb321f8268a422eb708c030ed20c2dbc2d74c52c3b4d487b11d9085a9f"
  }
 },
 "nbformat": 4,
 "nbformat_minor": 2,
 "cells": [
  {
   "cell_type": "code",
   "execution_count": 11,
   "metadata": {},
   "outputs": [],
   "source": [
    "# Importing all libraries required in this notebook\n",
    "import numpy as np #For numerical operations\n",
    "import pandas as pd #For handling the dataset\n",
    "import matplotlib.pyplot as plt #For visualization\n",
    "import seaborn as sns\n",
    "import os\n",
    "%matplotlib inline"
   ]
  },
  {
   "cell_type": "code",
   "execution_count": null,
   "metadata": {},
   "outputs": [],
   "source": [
    "df=pd.read_csv(\"SampleSuperstore.csv\")\n",
    "df\n",
    "#getting the information abut dataset\n",
    "df.info()\n",
    "df.duplicated().sum()\n",
    "df.drop_duplicates(inplace=True) #dropping the duplicates values\n",
    "df.info()"
   ]
  },
  {
   "cell_type": "code",
   "execution_count": null,
   "metadata": {},
   "outputs": [],
   "source": [
    "#Here postal code is not a useful column, hence we are dropping it.\n",
    "df.drop(['Postal Code'],axis=1, inplace=True)\n",
    "#Check for the null values\n",
    "df.isna().sum()\n",
    "#finding the correlation between the features\n",
    "df.corr()"
   ]
  },
  {
   "cell_type": "code",
   "execution_count": 14,
   "metadata": {},
   "outputs": [],
   "source": [
    "# (Header 1,visualizing the correlation between the features )"
   ]
  },
  {
   "cell_type": "code",
   "execution_count": null,
   "metadata": {},
   "outputs": [],
   "source": [
    "#visualizing the correlation between the features\n",
    "import seaborn as sns\n",
    "sns.heatmap(df.corr(),annot=True)\n",
    "df['Ship Mode'].value_counts()\n",
    "plt.figure(figsize=(6,6))\n",
    "plt.title('SHIP MODES')\n",
    "plt.pie(df['Ship Mode'].value_counts(), labels=df['Ship Mode'].value_counts().index, autopct= '%1.1f%%')\n",
    "plt.show()"
   ]
  },
  {
   "cell_type": "code",
   "execution_count": null,
   "metadata": {},
   "outputs": [],
   "source": [
    "sns.countplot(x=df['Ship Mode'])\n",
    "df['Segment'].value_counts()\n",
    "sns.pairplot(df,hue='Segment')"
   ]
  },
  {
   "cell_type": "code",
   "execution_count": null,
   "metadata": {},
   "outputs": [],
   "source": [
    "df['Category'].value_counts()\n",
    "plt.figure(figsize=(6,6))\n",
    "plt.title('Category')\n",
    "plt.pie(df['Category'].value_counts(),labels=df['Category'].value_counts().index,autopct='%1.1f%%')\n",
    "plt.show()"
   ]
  },
  {
   "cell_type": "code",
   "execution_count": null,
   "metadata": {},
   "outputs": [],
   "source": [
    "sns.countplot(x='Category',data=df)\n",
    "plt.figure(figsize=(8,8))\n",
    "plt.title('Sub-Category')\n",
    "plt.pie(df['Sub-Category'].value_counts(),labels=df['Sub-Category'].value_counts().index, autopct='%1.1f%%')\n",
    "plt.show()"
   ]
  },
  {
   "cell_type": "code",
   "execution_count": null,
   "metadata": {},
   "outputs": [],
   "source": [
    "plt.figure(figsize=(15,15))\n",
    "stpr=df.groupby(['State'])['Profit'].sum().nlargest(50)\n",
    "stpr.plot.bar()\n",
    "plt.style.use('seaborn')"
   ]
  },
  {
   "cell_type": "code",
   "execution_count": null,
   "metadata": {},
   "outputs": [],
   "source": [
    "df.plot(kind=\"scatter\",figsize=(12,6),x=\"Sales\",y=\"Profit\",c=\"Discount\",s=20,fontsize=12,colormap='plasma')\n",
    "plt.ylabel('Profits')\n",
    "plt.xlabel('Sales')\n",
    "plt.show()"
   ]
  },
  {
   "cell_type": "code",
   "execution_count": null,
   "metadata": {},
   "outputs": [],
   "source": [
    "sns.lineplot(x='Discount',y='Profit',label='Profit',data=df)\n",
    "plt.legend()\n",
    "plt.show()"
   ]
  },
  {
   "cell_type": "code",
   "execution_count": null,
   "metadata": {},
   "outputs": [],
   "source": [
    "pls=df.groupby('Region')[['Sales','Profit']].sum().sort_values(by='Sales',ascending=False)\n",
    "pls[:].plot.bar(color=['green','violet'],figsize=(20,10))\n",
    "plt.title('Profit/Loss and Sales across the Region')\n",
    "plt.xlabel('Region')\n",
    "plt.ylabel('Profit/Loss and Sales')\n",
    "plt.show()"
   ]
  },
  {
   "cell_type": "code",
   "execution_count": null,
   "metadata": {},
   "outputs": [],
   "source": [
    "pls=df.groupby('State')[['Sales','Profit']].sum().sort_values(by='Sales',ascending=False)\n",
    "pls[:].plot.bar(color=['blue','orange'],figsize=(20,10))\n",
    "plt.title('Profit/Loss and Sales across the States')\n",
    "plt.xlabel('States')\n",
    "plt.ylabel('Profit/Loss and Sales')\n",
    "plt.show()\n"
   ]
  }
 ]
}